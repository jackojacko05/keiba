{
 "cells": [
  {
   "cell_type": "code",
   "execution_count": 2,
   "metadata": {},
   "outputs": [],
   "source": [
    "import pandas as pd"
   ]
  },
  {
   "cell_type": "code",
   "execution_count": 2,
   "metadata": {},
   "outputs": [
    {
     "name": "stderr",
     "output_type": "stream",
     "text": [
      "/Users/user/.pyenv/versions/anaconda3-5.3.1/lib/python3.7/site-packages/IPython/core/interactiveshell.py:2785: DtypeWarning: Columns (3,15,16,17,34,36,37,72,74,76,99,100,101,106,107,108,121,123,127,128,132) have mixed types.Specify dtype option on import or set low_memory=False.\n",
      "  interactivity=interactivity, compiler=compiler, result=result)\n"
     ]
    }
   ],
   "source": [
    "fp_kyi = \"Datas/csv/kyi.csv\"\n",
    "df = pd.read_csv(fp_kyi)"
   ]
  },
  {
   "cell_type": "code",
   "execution_count": 3,
   "metadata": {},
   "outputs": [
    {
     "name": "stderr",
     "output_type": "stream",
     "text": [
      "/Users/user/.pyenv/versions/anaconda3-5.3.1/lib/python3.7/site-packages/IPython/core/interactiveshell.py:2785: DtypeWarning: Columns (3,19,31) have mixed types.Specify dtype option on import or set low_memory=False.\n",
      "  interactivity=interactivity, compiler=compiler, result=result)\n"
     ]
    }
   ],
   "source": [
    "fp_bac = \"Datas/csv/bac.csv\"\n",
    "df_bac = pd.read_csv(fp_bac)"
   ]
  },
  {
   "cell_type": "code",
   "execution_count": 3,
   "metadata": {},
   "outputs": [
    {
     "name": "stderr",
     "output_type": "stream",
     "text": [
      "/Users/user/.pyenv/versions/anaconda3-5.3.1/lib/python3.7/site-packages/IPython/core/interactiveshell.py:2785: DtypeWarning: Columns (1,5,22,24,25,26,27,31,62,63,64,65,68,70,72,77,78) have mixed types.Specify dtype option on import or set low_memory=False.\n",
      "  interactivity=interactivity, compiler=compiler, result=result)\n"
     ]
    }
   ],
   "source": [
    "fp_sed = \"Datas/csv/sed.csv\"\n",
    "df_sed = pd.read_csv(fp_sed)"
   ]
  },
  {
   "cell_type": "code",
   "execution_count": 4,
   "metadata": {},
   "outputs": [
    {
     "data": {
      "text/html": [
       "<div>\n",
       "<style scoped>\n",
       "    .dataframe tbody tr th:only-of-type {\n",
       "        vertical-align: middle;\n",
       "    }\n",
       "\n",
       "    .dataframe tbody tr th {\n",
       "        vertical-align: top;\n",
       "    }\n",
       "\n",
       "    .dataframe thead th {\n",
       "        text-align: right;\n",
       "    }\n",
       "</style>\n",
       "<table border=\"1\" class=\"dataframe\">\n",
       "  <thead>\n",
       "    <tr style=\"text-align: right;\">\n",
       "      <th></th>\n",
       "      <th>Unnamed: 0</th>\n",
       "      <th>レースキー</th>\n",
       "      <th>レースキー_場コード</th>\n",
       "      <th>レースキー_年</th>\n",
       "      <th>レースキー_回</th>\n",
       "      <th>レースキー_日</th>\n",
       "      <th>レースキー_R</th>\n",
       "      <th>馬番</th>\n",
       "      <th>競走成績キー_血統登録番号</th>\n",
       "      <th>競走成績キー_年月日</th>\n",
       "      <th>...</th>\n",
       "      <th>コース</th>\n",
       "      <th>レース脚質</th>\n",
       "      <th>払戻データ_単勝</th>\n",
       "      <th>払戻データ_複勝</th>\n",
       "      <th>本賞金</th>\n",
       "      <th>収得賞金</th>\n",
       "      <th>レースペース流れ</th>\n",
       "      <th>馬ペース流れ</th>\n",
       "      <th>４角コース取り</th>\n",
       "      <th>発走時間</th>\n",
       "    </tr>\n",
       "  </thead>\n",
       "  <tbody>\n",
       "    <tr>\n",
       "      <th>0</th>\n",
       "      <td>0</td>\n",
       "      <td>3033701</td>\n",
       "      <td>3.0</td>\n",
       "      <td>3.0</td>\n",
       "      <td>3.0</td>\n",
       "      <td>7</td>\n",
       "      <td>1.0</td>\n",
       "      <td>1.0</td>\n",
       "      <td>1105395.0</td>\n",
       "      <td>20031115.0</td>\n",
       "      <td>...</td>\n",
       "      <td>5</td>\n",
       "      <td>4</td>\n",
       "      <td></td>\n",
       "      <td></td>\n",
       "      <td>0</td>\n",
       "      <td>0</td>\n",
       "      <td>33</td>\n",
       "      <td>22</td>\n",
       "      <td>1</td>\n",
       "      <td></td>\n",
       "    </tr>\n",
       "    <tr>\n",
       "      <th>1</th>\n",
       "      <td>1</td>\n",
       "      <td>3033701</td>\n",
       "      <td>3.0</td>\n",
       "      <td>3.0</td>\n",
       "      <td>3.0</td>\n",
       "      <td>7</td>\n",
       "      <td>1.0</td>\n",
       "      <td>2.0</td>\n",
       "      <td>1103418.0</td>\n",
       "      <td>20031115.0</td>\n",
       "      <td>...</td>\n",
       "      <td>5</td>\n",
       "      <td>1</td>\n",
       "      <td>140</td>\n",
       "      <td>110</td>\n",
       "      <td>500</td>\n",
       "      <td>400</td>\n",
       "      <td>33</td>\n",
       "      <td>33</td>\n",
       "      <td>1</td>\n",
       "      <td></td>\n",
       "    </tr>\n",
       "    <tr>\n",
       "      <th>2</th>\n",
       "      <td>2</td>\n",
       "      <td>3033701</td>\n",
       "      <td>3.0</td>\n",
       "      <td>3.0</td>\n",
       "      <td>3.0</td>\n",
       "      <td>7</td>\n",
       "      <td>1.0</td>\n",
       "      <td>3.0</td>\n",
       "      <td>1109353.0</td>\n",
       "      <td>20031115.0</td>\n",
       "      <td>...</td>\n",
       "      <td>5</td>\n",
       "      <td>3</td>\n",
       "      <td></td>\n",
       "      <td></td>\n",
       "      <td>50</td>\n",
       "      <td>0</td>\n",
       "      <td>33</td>\n",
       "      <td>33</td>\n",
       "      <td>1</td>\n",
       "      <td></td>\n",
       "    </tr>\n",
       "    <tr>\n",
       "      <th>3</th>\n",
       "      <td>3</td>\n",
       "      <td>3033701</td>\n",
       "      <td>3.0</td>\n",
       "      <td>3.0</td>\n",
       "      <td>3.0</td>\n",
       "      <td>7</td>\n",
       "      <td>1.0</td>\n",
       "      <td>4.0</td>\n",
       "      <td>1100106.0</td>\n",
       "      <td>20031115.0</td>\n",
       "      <td>...</td>\n",
       "      <td>5</td>\n",
       "      <td>3</td>\n",
       "      <td></td>\n",
       "      <td>180</td>\n",
       "      <td>130</td>\n",
       "      <td>0</td>\n",
       "      <td>33</td>\n",
       "      <td>33</td>\n",
       "      <td>2</td>\n",
       "      <td></td>\n",
       "    </tr>\n",
       "    <tr>\n",
       "      <th>4</th>\n",
       "      <td>4</td>\n",
       "      <td>3033701</td>\n",
       "      <td>3.0</td>\n",
       "      <td>3.0</td>\n",
       "      <td>3.0</td>\n",
       "      <td>7</td>\n",
       "      <td>1.0</td>\n",
       "      <td>5.0</td>\n",
       "      <td>1106074.0</td>\n",
       "      <td>20031115.0</td>\n",
       "      <td>...</td>\n",
       "      <td>5</td>\n",
       "      <td>4</td>\n",
       "      <td></td>\n",
       "      <td></td>\n",
       "      <td>0</td>\n",
       "      <td>0</td>\n",
       "      <td>33</td>\n",
       "      <td>33</td>\n",
       "      <td>1</td>\n",
       "      <td></td>\n",
       "    </tr>\n",
       "  </tbody>\n",
       "</table>\n",
       "<p>5 rows × 83 columns</p>\n",
       "</div>"
      ],
      "text/plain": [
       "   Unnamed: 0    レースキー  レースキー_場コード  レースキー_年  レースキー_回 レースキー_日  レースキー_R   馬番  \\\n",
       "0           0  3033701         3.0      3.0      3.0       7      1.0  1.0   \n",
       "1           1  3033701         3.0      3.0      3.0       7      1.0  2.0   \n",
       "2           2  3033701         3.0      3.0      3.0       7      1.0  3.0   \n",
       "3           3  3033701         3.0      3.0      3.0       7      1.0  4.0   \n",
       "4           4  3033701         3.0      3.0      3.0       7      1.0  5.0   \n",
       "\n",
       "   競走成績キー_血統登録番号  競走成績キー_年月日  ... コース  レース脚質  払戻データ_単勝  払戻データ_複勝  本賞金  収得賞金  \\\n",
       "0      1105395.0  20031115.0  ...   5      4                        0     0   \n",
       "1      1103418.0  20031115.0  ...   5      1       140       110  500   400   \n",
       "2      1109353.0  20031115.0  ...   5      3                       50     0   \n",
       "3      1100106.0  20031115.0  ...   5      3                 180  130     0   \n",
       "4      1106074.0  20031115.0  ...   5      4                        0     0   \n",
       "\n",
       "   レースペース流れ 馬ペース流れ  ４角コース取り  発走時間  \n",
       "0        33     22        1        \n",
       "1        33     33        1        \n",
       "2        33     33        1        \n",
       "3        33     33        2        \n",
       "4        33     33        1        \n",
       "\n",
       "[5 rows x 83 columns]"
      ]
     },
     "execution_count": 4,
     "metadata": {},
     "output_type": "execute_result"
    }
   ],
   "source": [
    "df_sed.head()"
   ]
  },
  {
   "cell_type": "code",
   "execution_count": 50,
   "metadata": {},
   "outputs": [],
   "source": [
    "df_sed['馬成績_着順'] = pd.to_numeric(df_sed['馬成績_着順'], errors='coerce')\n",
    "df_sed['馬成績_タイム'] = pd.to_numeric(df_sed['馬成績_タイム'], errors='coerce')\n",
    "df_sed['ＪＲＤＢデータ_後３Ｆタイム'] = pd.to_numeric(df_sed['ＪＲＤＢデータ_後３Ｆタイム'], errors='coerce')"
   ]
  },
  {
   "cell_type": "code",
   "execution_count": 51,
   "metadata": {},
   "outputs": [
    {
     "data": {
      "text/html": [
       "<div>\n",
       "<style scoped>\n",
       "    .dataframe tbody tr th:only-of-type {\n",
       "        vertical-align: middle;\n",
       "    }\n",
       "\n",
       "    .dataframe tbody tr th {\n",
       "        vertical-align: top;\n",
       "    }\n",
       "\n",
       "    .dataframe thead th {\n",
       "        text-align: right;\n",
       "    }\n",
       "</style>\n",
       "<table border=\"1\" class=\"dataframe\">\n",
       "  <thead>\n",
       "    <tr style=\"text-align: right;\">\n",
       "      <th></th>\n",
       "      <th>レースキー</th>\n",
       "      <th>競走成績キー_年月日</th>\n",
       "      <th>馬番</th>\n",
       "      <th>馬名</th>\n",
       "      <th>レース条件_レース名</th>\n",
       "      <th>馬成績_着順</th>\n",
       "      <th>馬成績_タイム</th>\n",
       "      <th>ＪＲＤＢデータ_後３Ｆタイム</th>\n",
       "      <th>rank_size</th>\n",
       "    </tr>\n",
       "  </thead>\n",
       "  <tbody>\n",
       "    <tr>\n",
       "      <th>304195</th>\n",
       "      <td>05152611</td>\n",
       "      <td>20150510.0</td>\n",
       "      <td>7.0</td>\n",
       "      <td>クラリティスカイ</td>\n",
       "      <td>ＮＨＫマイルカップ</td>\n",
       "      <td>1.0</td>\n",
       "      <td>1335.0</td>\n",
       "      <td>339.0</td>\n",
       "      <td>1.000000</td>\n",
       "    </tr>\n",
       "    <tr>\n",
       "      <th>304197</th>\n",
       "      <td>05152611</td>\n",
       "      <td>20150510.0</td>\n",
       "      <td>9.0</td>\n",
       "      <td>アルビアーノ</td>\n",
       "      <td>ＮＨＫマイルカップ</td>\n",
       "      <td>2.0</td>\n",
       "      <td>1337.0</td>\n",
       "      <td>344.0</td>\n",
       "      <td>0.500000</td>\n",
       "    </tr>\n",
       "    <tr>\n",
       "      <th>304200</th>\n",
       "      <td>05152611</td>\n",
       "      <td>20150510.0</td>\n",
       "      <td>12.0</td>\n",
       "      <td>ミュゼスルタン</td>\n",
       "      <td>ＮＨＫマイルカップ</td>\n",
       "      <td>3.0</td>\n",
       "      <td>1337.0</td>\n",
       "      <td>338.0</td>\n",
       "      <td>0.333333</td>\n",
       "    </tr>\n",
       "    <tr>\n",
       "      <th>745170</th>\n",
       "      <td>05162611</td>\n",
       "      <td>20160508.0</td>\n",
       "      <td>5.0</td>\n",
       "      <td>ロードクエスト</td>\n",
       "      <td>ＮＨＫマイルカップ</td>\n",
       "      <td>2.0</td>\n",
       "      <td>1329.0</td>\n",
       "      <td>338.0</td>\n",
       "      <td>0.500000</td>\n",
       "    </tr>\n",
       "    <tr>\n",
       "      <th>745183</th>\n",
       "      <td>05162611</td>\n",
       "      <td>20160508.0</td>\n",
       "      <td>18.0</td>\n",
       "      <td>レインボーライン</td>\n",
       "      <td>ＮＨＫマイルカップ</td>\n",
       "      <td>3.0</td>\n",
       "      <td>1329.0</td>\n",
       "      <td>344.0</td>\n",
       "      <td>0.333333</td>\n",
       "    </tr>\n",
       "  </tbody>\n",
       "</table>\n",
       "</div>"
      ],
      "text/plain": [
       "           レースキー  競走成績キー_年月日    馬番                  馬名  \\\n",
       "304195  05152611  20150510.0   7.0  クラリティスカイ　　　　　　　　　　   \n",
       "304197  05152611  20150510.0   9.0  アルビアーノ　　　　　　　　　　　　   \n",
       "304200  05152611  20150510.0  12.0  ミュゼスルタン　　　　　　　　　　　   \n",
       "745170  05162611  20160508.0   5.0  ロードクエスト　　　　　　　　　　　   \n",
       "745183  05162611  20160508.0  18.0  レインボーライン　　　　　　　　　　   \n",
       "\n",
       "                       レース条件_レース名 馬成績_着順  馬成績_タイム  ＪＲＤＢデータ_後３Ｆタイム  rank_size  \n",
       "304195  ＮＨＫマイルカップ　　　　　　　　　　　　　　　　    1.0   1335.0           339.0   1.000000  \n",
       "304197  ＮＨＫマイルカップ　　　　　　　　　　　　　　　　    2.0   1337.0           344.0   0.500000  \n",
       "304200  ＮＨＫマイルカップ　　　　　　　　　　　　　　　　    3.0   1337.0           338.0   0.333333  \n",
       "745170  ＮＨＫマイルカップ　　　　　　　　　　　　　　　　    2.0   1329.0           338.0   0.500000  \n",
       "745183  ＮＨＫマイルカップ　　　　　　　　　　　　　　　　    3.0   1329.0           344.0   0.333333  "
      ]
     },
     "execution_count": 51,
     "metadata": {},
     "output_type": "execute_result"
    }
   ],
   "source": [
    "df_tops = df_sed[(df_sed['レース条件_レース名'].str.contains('マイルカップ', na=False)) & (df_sed['馬成績_着順'] < 4) & (df_sed['馬成績_着順'] > 0) & (df_sed['レースキー_年'] > 14) & (df_sed['レースキー_年'] < 25)][[\"レースキー\", \"競走成績キー_年月日\", \"馬番\", \"馬名\", \"レース条件_レース名\", \"馬成績_着順\", \"馬成績_タイム\", \"ＪＲＤＢデータ_後３Ｆタイム\"]].sort_values(\"競走成績キー_年月日\")\n",
    "df_tops['rank_size'] = 1 / df_tops['馬成績_着順']\n",
    "df_tops[\"馬成績_着順\"] = df_tops[\"馬成績_着順\"].astype(str)\n",
    "df_tops.head()"
   ]
  },
  {
   "cell_type": "code",
   "execution_count": 52,
   "metadata": {},
   "outputs": [
    {
     "data": {
      "application/vnd.plotly.v1+json": {
       "config": {
        "plotlyServerURL": "https://plot.ly"
       },
       "data": [
        {
         "hovertemplate": "<b>%{hovertext}</b><br><br>馬成績_着順=1.0<br>馬成績_タイム=%{x}<br>ＪＲＤＢデータ_後３Ｆタイム=%{y}<br>馬名=%{text}<extra></extra>",
         "hovertext": [
          "クラリティスカイ　　　　　　　　　　",
          "メジャーエンブレム　　　　　　　　　",
          "アエロリット　　　　　　　　　　　　",
          "ケイアイノーテック　　　　　　　　　",
          "アドマイヤマーズ　　　　　　　　　　",
          "ラウダシオン　　　　　　　　　　　　",
          "シュネルマイスター　　　　　　　　　",
          "ダノンスコーピオン　　　　　　　　　",
          "シャンパンカラー　　　　　　　　　　"
         ],
         "legendgroup": "1.0",
         "marker": {
          "color": "#636efa",
          "symbol": "circle"
         },
         "mode": "markers+text",
         "name": "1.0",
         "orientation": "v",
         "showlegend": true,
         "text": [
          "クラリティスカイ　　　　　　　　　　",
          "メジャーエンブレム　　　　　　　　　",
          "アエロリット　　　　　　　　　　　　",
          "ケイアイノーテック　　　　　　　　　",
          "アドマイヤマーズ　　　　　　　　　　",
          "ラウダシオン　　　　　　　　　　　　",
          "シュネルマイスター　　　　　　　　　",
          "ダノンスコーピオン　　　　　　　　　",
          "シャンパンカラー　　　　　　　　　　"
         ],
         "type": "scatter",
         "x": [
          1335,
          1328,
          1323,
          1328,
          1324,
          1325,
          1316,
          1323,
          1338
         ],
         "xaxis": "x",
         "y": [
          339,
          351,
          343,
          337,
          339,
          344,
          340,
          343,
          344
         ],
         "yaxis": "y"
        },
        {
         "hovertemplate": "<b>%{hovertext}</b><br><br>馬成績_着順=2.0<br>馬成績_タイム=%{x}<br>ＪＲＤＢデータ_後３Ｆタイム=%{y}<br>馬名=%{text}<extra></extra>",
         "hovertext": [
          "アルビアーノ　　　　　　　　　　　　",
          "ロードクエスト　　　　　　　　　　　",
          "リエノテソーロ　　　　　　　　　　　",
          "ギベオン　　　　　　　　　　　　　　",
          "ケイデンスコール　　　　　　　　　　",
          "レシステンシア　　　　　　　　　　　",
          "ソングライン　　　　　　　　　　　　",
          "マテンロウオリオン　　　　　　　　　",
          "ウンブライル　　　　　　　　　　　　"
         ],
         "legendgroup": "2.0",
         "marker": {
          "color": "#EF553B",
          "symbol": "circle"
         },
         "mode": "markers+text",
         "name": "2.0",
         "orientation": "v",
         "showlegend": true,
         "text": [
          "アルビアーノ　　　　　　　　　　　　",
          "ロードクエスト　　　　　　　　　　　",
          "リエノテソーロ　　　　　　　　　　　",
          "ギベオン　　　　　　　　　　　　　　",
          "ケイデンスコール　　　　　　　　　　",
          "レシステンシア　　　　　　　　　　　",
          "ソングライン　　　　　　　　　　　　",
          "マテンロウオリオン　　　　　　　　　",
          "ウンブライル　　　　　　　　　　　　"
         ],
         "type": "scatter",
         "x": [
          1337,
          1329,
          1325,
          1328,
          1325,
          1327,
          1316,
          1323,
          1338
         ],
         "xaxis": "x",
         "y": [
          344,
          338,
          340,
          345,
          336,
          347,
          343,
          335,
          340
         ],
         "yaxis": "y"
        },
        {
         "hovertemplate": "<b>%{hovertext}</b><br><br>馬成績_着順=3.0<br>馬成績_タイム=%{x}<br>ＪＲＤＢデータ_後３Ｆタイム=%{y}<br>馬名=%{text}<extra></extra>",
         "hovertext": [
          "ミュゼスルタン　　　　　　　　　　　",
          "レインボーライン　　　　　　　　　　",
          "ボンセルヴィーソ　　　　　　　　　　",
          "レッドヴェイロン　　　　　　　　　　",
          "カテドラル　　　　　　　　　　　　　",
          "ギルデッドミラー　　　　　　　　　　",
          "グレナディアガーズ　　　　　　　　　",
          "カワキタレブリー　　　　　　　　　　",
          "オオバンブルマイ　　　　　　　　　　"
         ],
         "legendgroup": "3.0",
         "marker": {
          "color": "#00cc96",
          "symbol": "circle"
         },
         "mode": "markers+text",
         "name": "3.0",
         "orientation": "v",
         "showlegend": true,
         "text": [
          "ミュゼスルタン　　　　　　　　　　　",
          "レインボーライン　　　　　　　　　　",
          "ボンセルヴィーソ　　　　　　　　　　",
          "レッドヴェイロン　　　　　　　　　　",
          "カテドラル　　　　　　　　　　　　　",
          "ギルデッドミラー　　　　　　　　　　",
          "グレナディアガーズ　　　　　　　　　",
          "カワキタレブリー　　　　　　　　　　",
          "オオバンブルマイ　　　　　　　　　　"
         ],
         "type": "scatter",
         "x": [
          1337,
          1329,
          1329,
          1328,
          1325,
          1328,
          1321,
          1324,
          1340
         ],
         "xaxis": "x",
         "y": [
          338,
          344,
          350,
          341,
          337,
          342,
          351,
          338,
          344
         ],
         "yaxis": "y"
        }
       ],
       "layout": {
        "legend": {
         "title": {
          "text": "馬成績_着順"
         },
         "tracegroupgap": 0
        },
        "template": {
         "data": {
          "bar": [
           {
            "error_x": {
             "color": "#2a3f5f"
            },
            "error_y": {
             "color": "#2a3f5f"
            },
            "marker": {
             "line": {
              "color": "#E5ECF6",
              "width": 0.5
             }
            },
            "type": "bar"
           }
          ],
          "barpolar": [
           {
            "marker": {
             "line": {
              "color": "#E5ECF6",
              "width": 0.5
             }
            },
            "type": "barpolar"
           }
          ],
          "carpet": [
           {
            "aaxis": {
             "endlinecolor": "#2a3f5f",
             "gridcolor": "white",
             "linecolor": "white",
             "minorgridcolor": "white",
             "startlinecolor": "#2a3f5f"
            },
            "baxis": {
             "endlinecolor": "#2a3f5f",
             "gridcolor": "white",
             "linecolor": "white",
             "minorgridcolor": "white",
             "startlinecolor": "#2a3f5f"
            },
            "type": "carpet"
           }
          ],
          "choropleth": [
           {
            "colorbar": {
             "outlinewidth": 0,
             "ticks": ""
            },
            "type": "choropleth"
           }
          ],
          "contour": [
           {
            "colorbar": {
             "outlinewidth": 0,
             "ticks": ""
            },
            "colorscale": [
             [
              0,
              "#0d0887"
             ],
             [
              0.1111111111111111,
              "#46039f"
             ],
             [
              0.2222222222222222,
              "#7201a8"
             ],
             [
              0.3333333333333333,
              "#9c179e"
             ],
             [
              0.4444444444444444,
              "#bd3786"
             ],
             [
              0.5555555555555556,
              "#d8576b"
             ],
             [
              0.6666666666666666,
              "#ed7953"
             ],
             [
              0.7777777777777778,
              "#fb9f3a"
             ],
             [
              0.8888888888888888,
              "#fdca26"
             ],
             [
              1,
              "#f0f921"
             ]
            ],
            "type": "contour"
           }
          ],
          "contourcarpet": [
           {
            "colorbar": {
             "outlinewidth": 0,
             "ticks": ""
            },
            "type": "contourcarpet"
           }
          ],
          "heatmap": [
           {
            "colorbar": {
             "outlinewidth": 0,
             "ticks": ""
            },
            "colorscale": [
             [
              0,
              "#0d0887"
             ],
             [
              0.1111111111111111,
              "#46039f"
             ],
             [
              0.2222222222222222,
              "#7201a8"
             ],
             [
              0.3333333333333333,
              "#9c179e"
             ],
             [
              0.4444444444444444,
              "#bd3786"
             ],
             [
              0.5555555555555556,
              "#d8576b"
             ],
             [
              0.6666666666666666,
              "#ed7953"
             ],
             [
              0.7777777777777778,
              "#fb9f3a"
             ],
             [
              0.8888888888888888,
              "#fdca26"
             ],
             [
              1,
              "#f0f921"
             ]
            ],
            "type": "heatmap"
           }
          ],
          "heatmapgl": [
           {
            "colorbar": {
             "outlinewidth": 0,
             "ticks": ""
            },
            "colorscale": [
             [
              0,
              "#0d0887"
             ],
             [
              0.1111111111111111,
              "#46039f"
             ],
             [
              0.2222222222222222,
              "#7201a8"
             ],
             [
              0.3333333333333333,
              "#9c179e"
             ],
             [
              0.4444444444444444,
              "#bd3786"
             ],
             [
              0.5555555555555556,
              "#d8576b"
             ],
             [
              0.6666666666666666,
              "#ed7953"
             ],
             [
              0.7777777777777778,
              "#fb9f3a"
             ],
             [
              0.8888888888888888,
              "#fdca26"
             ],
             [
              1,
              "#f0f921"
             ]
            ],
            "type": "heatmapgl"
           }
          ],
          "histogram": [
           {
            "marker": {
             "colorbar": {
              "outlinewidth": 0,
              "ticks": ""
             }
            },
            "type": "histogram"
           }
          ],
          "histogram2d": [
           {
            "colorbar": {
             "outlinewidth": 0,
             "ticks": ""
            },
            "colorscale": [
             [
              0,
              "#0d0887"
             ],
             [
              0.1111111111111111,
              "#46039f"
             ],
             [
              0.2222222222222222,
              "#7201a8"
             ],
             [
              0.3333333333333333,
              "#9c179e"
             ],
             [
              0.4444444444444444,
              "#bd3786"
             ],
             [
              0.5555555555555556,
              "#d8576b"
             ],
             [
              0.6666666666666666,
              "#ed7953"
             ],
             [
              0.7777777777777778,
              "#fb9f3a"
             ],
             [
              0.8888888888888888,
              "#fdca26"
             ],
             [
              1,
              "#f0f921"
             ]
            ],
            "type": "histogram2d"
           }
          ],
          "histogram2dcontour": [
           {
            "colorbar": {
             "outlinewidth": 0,
             "ticks": ""
            },
            "colorscale": [
             [
              0,
              "#0d0887"
             ],
             [
              0.1111111111111111,
              "#46039f"
             ],
             [
              0.2222222222222222,
              "#7201a8"
             ],
             [
              0.3333333333333333,
              "#9c179e"
             ],
             [
              0.4444444444444444,
              "#bd3786"
             ],
             [
              0.5555555555555556,
              "#d8576b"
             ],
             [
              0.6666666666666666,
              "#ed7953"
             ],
             [
              0.7777777777777778,
              "#fb9f3a"
             ],
             [
              0.8888888888888888,
              "#fdca26"
             ],
             [
              1,
              "#f0f921"
             ]
            ],
            "type": "histogram2dcontour"
           }
          ],
          "mesh3d": [
           {
            "colorbar": {
             "outlinewidth": 0,
             "ticks": ""
            },
            "type": "mesh3d"
           }
          ],
          "parcoords": [
           {
            "line": {
             "colorbar": {
              "outlinewidth": 0,
              "ticks": ""
             }
            },
            "type": "parcoords"
           }
          ],
          "pie": [
           {
            "automargin": true,
            "type": "pie"
           }
          ],
          "scatter": [
           {
            "marker": {
             "colorbar": {
              "outlinewidth": 0,
              "ticks": ""
             }
            },
            "type": "scatter"
           }
          ],
          "scatter3d": [
           {
            "line": {
             "colorbar": {
              "outlinewidth": 0,
              "ticks": ""
             }
            },
            "marker": {
             "colorbar": {
              "outlinewidth": 0,
              "ticks": ""
             }
            },
            "type": "scatter3d"
           }
          ],
          "scattercarpet": [
           {
            "marker": {
             "colorbar": {
              "outlinewidth": 0,
              "ticks": ""
             }
            },
            "type": "scattercarpet"
           }
          ],
          "scattergeo": [
           {
            "marker": {
             "colorbar": {
              "outlinewidth": 0,
              "ticks": ""
             }
            },
            "type": "scattergeo"
           }
          ],
          "scattergl": [
           {
            "marker": {
             "colorbar": {
              "outlinewidth": 0,
              "ticks": ""
             }
            },
            "type": "scattergl"
           }
          ],
          "scattermapbox": [
           {
            "marker": {
             "colorbar": {
              "outlinewidth": 0,
              "ticks": ""
             }
            },
            "type": "scattermapbox"
           }
          ],
          "scatterpolar": [
           {
            "marker": {
             "colorbar": {
              "outlinewidth": 0,
              "ticks": ""
             }
            },
            "type": "scatterpolar"
           }
          ],
          "scatterpolargl": [
           {
            "marker": {
             "colorbar": {
              "outlinewidth": 0,
              "ticks": ""
             }
            },
            "type": "scatterpolargl"
           }
          ],
          "scatterternary": [
           {
            "marker": {
             "colorbar": {
              "outlinewidth": 0,
              "ticks": ""
             }
            },
            "type": "scatterternary"
           }
          ],
          "surface": [
           {
            "colorbar": {
             "outlinewidth": 0,
             "ticks": ""
            },
            "colorscale": [
             [
              0,
              "#0d0887"
             ],
             [
              0.1111111111111111,
              "#46039f"
             ],
             [
              0.2222222222222222,
              "#7201a8"
             ],
             [
              0.3333333333333333,
              "#9c179e"
             ],
             [
              0.4444444444444444,
              "#bd3786"
             ],
             [
              0.5555555555555556,
              "#d8576b"
             ],
             [
              0.6666666666666666,
              "#ed7953"
             ],
             [
              0.7777777777777778,
              "#fb9f3a"
             ],
             [
              0.8888888888888888,
              "#fdca26"
             ],
             [
              1,
              "#f0f921"
             ]
            ],
            "type": "surface"
           }
          ],
          "table": [
           {
            "cells": {
             "fill": {
              "color": "#EBF0F8"
             },
             "line": {
              "color": "white"
             }
            },
            "header": {
             "fill": {
              "color": "#C8D4E3"
             },
             "line": {
              "color": "white"
             }
            },
            "type": "table"
           }
          ]
         },
         "layout": {
          "annotationdefaults": {
           "arrowcolor": "#2a3f5f",
           "arrowhead": 0,
           "arrowwidth": 1
          },
          "autotypenumbers": "strict",
          "coloraxis": {
           "colorbar": {
            "outlinewidth": 0,
            "ticks": ""
           }
          },
          "colorscale": {
           "diverging": [
            [
             0,
             "#8e0152"
            ],
            [
             0.1,
             "#c51b7d"
            ],
            [
             0.2,
             "#de77ae"
            ],
            [
             0.3,
             "#f1b6da"
            ],
            [
             0.4,
             "#fde0ef"
            ],
            [
             0.5,
             "#f7f7f7"
            ],
            [
             0.6,
             "#e6f5d0"
            ],
            [
             0.7,
             "#b8e186"
            ],
            [
             0.8,
             "#7fbc41"
            ],
            [
             0.9,
             "#4d9221"
            ],
            [
             1,
             "#276419"
            ]
           ],
           "sequential": [
            [
             0,
             "#0d0887"
            ],
            [
             0.1111111111111111,
             "#46039f"
            ],
            [
             0.2222222222222222,
             "#7201a8"
            ],
            [
             0.3333333333333333,
             "#9c179e"
            ],
            [
             0.4444444444444444,
             "#bd3786"
            ],
            [
             0.5555555555555556,
             "#d8576b"
            ],
            [
             0.6666666666666666,
             "#ed7953"
            ],
            [
             0.7777777777777778,
             "#fb9f3a"
            ],
            [
             0.8888888888888888,
             "#fdca26"
            ],
            [
             1,
             "#f0f921"
            ]
           ],
           "sequentialminus": [
            [
             0,
             "#0d0887"
            ],
            [
             0.1111111111111111,
             "#46039f"
            ],
            [
             0.2222222222222222,
             "#7201a8"
            ],
            [
             0.3333333333333333,
             "#9c179e"
            ],
            [
             0.4444444444444444,
             "#bd3786"
            ],
            [
             0.5555555555555556,
             "#d8576b"
            ],
            [
             0.6666666666666666,
             "#ed7953"
            ],
            [
             0.7777777777777778,
             "#fb9f3a"
            ],
            [
             0.8888888888888888,
             "#fdca26"
            ],
            [
             1,
             "#f0f921"
            ]
           ]
          },
          "colorway": [
           "#636efa",
           "#EF553B",
           "#00cc96",
           "#ab63fa",
           "#FFA15A",
           "#19d3f3",
           "#FF6692",
           "#B6E880",
           "#FF97FF",
           "#FECB52"
          ],
          "font": {
           "color": "#2a3f5f"
          },
          "geo": {
           "bgcolor": "white",
           "lakecolor": "white",
           "landcolor": "#E5ECF6",
           "showlakes": true,
           "showland": true,
           "subunitcolor": "white"
          },
          "hoverlabel": {
           "align": "left"
          },
          "hovermode": "closest",
          "mapbox": {
           "style": "light"
          },
          "paper_bgcolor": "white",
          "plot_bgcolor": "#E5ECF6",
          "polar": {
           "angularaxis": {
            "gridcolor": "white",
            "linecolor": "white",
            "ticks": ""
           },
           "bgcolor": "#E5ECF6",
           "radialaxis": {
            "gridcolor": "white",
            "linecolor": "white",
            "ticks": ""
           }
          },
          "scene": {
           "xaxis": {
            "backgroundcolor": "#E5ECF6",
            "gridcolor": "white",
            "gridwidth": 2,
            "linecolor": "white",
            "showbackground": true,
            "ticks": "",
            "zerolinecolor": "white"
           },
           "yaxis": {
            "backgroundcolor": "#E5ECF6",
            "gridcolor": "white",
            "gridwidth": 2,
            "linecolor": "white",
            "showbackground": true,
            "ticks": "",
            "zerolinecolor": "white"
           },
           "zaxis": {
            "backgroundcolor": "#E5ECF6",
            "gridcolor": "white",
            "gridwidth": 2,
            "linecolor": "white",
            "showbackground": true,
            "ticks": "",
            "zerolinecolor": "white"
           }
          },
          "shapedefaults": {
           "line": {
            "color": "#2a3f5f"
           }
          },
          "ternary": {
           "aaxis": {
            "gridcolor": "white",
            "linecolor": "white",
            "ticks": ""
           },
           "baxis": {
            "gridcolor": "white",
            "linecolor": "white",
            "ticks": ""
           },
           "bgcolor": "#E5ECF6",
           "caxis": {
            "gridcolor": "white",
            "linecolor": "white",
            "ticks": ""
           }
          },
          "title": {
           "x": 0.05
          },
          "xaxis": {
           "automargin": true,
           "gridcolor": "white",
           "linecolor": "white",
           "ticks": "",
           "title": {
            "standoff": 15
           },
           "zerolinecolor": "white",
           "zerolinewidth": 2
          },
          "yaxis": {
           "automargin": true,
           "gridcolor": "white",
           "linecolor": "white",
           "ticks": "",
           "title": {
            "standoff": 15
           },
           "zerolinecolor": "white",
           "zerolinewidth": 2
          }
         }
        },
        "title": {
         "text": "NHKマイルカップ 過去10年の馬券内のタイムと後3F"
        },
        "xaxis": {
         "anchor": "y",
         "domain": [
          0,
          1
         ],
         "title": {
          "text": "馬成績_タイム"
         }
        },
        "yaxis": {
         "anchor": "x",
         "domain": [
          0,
          1
         ],
         "title": {
          "text": "ＪＲＤＢデータ_後３Ｆタイム"
         }
        }
       }
      }
     },
     "metadata": {},
     "output_type": "display_data"
    }
   ],
   "source": [
    "import plotly.express as px\n",
    "import pandas as pd\n",
    "\n",
    "fig = px.scatter(\n",
    "    df_tops, \n",
    "    x='馬成績_タイム', \n",
    "    y='ＪＲＤＢデータ_後３Ｆタイム',\n",
    "    color='馬成績_着順', \n",
    "    text='馬名',\n",
    "    hover_name='馬名', \n",
    "    # log_x=True, \n",
    "    size_max=100,\n",
    "    title=\"NHKマイルカップ 過去10年の馬券内のタイムと後3F\"\n",
    "    )\n",
    "fig.show()  "
   ]
  }
 ],
 "metadata": {
  "kernelspec": {
   "display_name": "base",
   "language": "python",
   "name": "python3"
  },
  "language_info": {
   "codemirror_mode": {
    "name": "ipython",
    "version": 3
   },
   "file_extension": ".py",
   "mimetype": "text/x-python",
   "name": "python",
   "nbconvert_exporter": "python",
   "pygments_lexer": "ipython3",
   "version": "3.7.0"
  }
 },
 "nbformat": 4,
 "nbformat_minor": 2
}
